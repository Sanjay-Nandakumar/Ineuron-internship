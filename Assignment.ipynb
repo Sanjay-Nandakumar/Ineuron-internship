{
 "cells": [
  {
   "cell_type": "markdown",
   "metadata": {},
   "source": [
    "# Assignment"
   ]
  },
  {
   "cell_type": "markdown",
   "metadata": {},
   "source": [
    "# Question 1\n",
    "\n",
    "Write code to identify all Prime numbers within a given range.\n",
    "\n",
    "If input is 100, it should print all Prime numbers within the range of 0-100.\n",
    "\n",
    "\n",
    "# Approach:\n",
    "1. Enter the upper range and lowerrange\n",
    "2. Iterate through each element\n",
    "3. Check whether any number less than the iterator variable is perfectly divisible or not\n",
    "4. If no number  number less than the iterator variable is perfectly divisible then it is a prime number\n"
   ]
  },
  {
   "cell_type": "code",
   "execution_count": 1,
   "metadata": {},
   "outputs": [
    {
     "name": "stdout",
     "output_type": "stream",
     "text": [
      "Enter lower range: 1\n",
      "Enter upper range: 100\n",
      "Prime numbers are: \n",
      "2 3 4 5 7 11 13 17 19 23 29 31 37 41 43 47 53 59 61 67 71 73 79 83 89 97 "
     ]
    }
   ],
   "source": [
    "lowerrange = int(input(\"Enter lower range: \"))  \n",
    "upperrange = int(input(\"Enter upper range: \"))\n",
    "\n",
    "print(\"Prime numbers are: \")\n",
    "for i in range(lowerrange,upperrange+1):\n",
    "    if(i > 1):\n",
    "        flag=0\n",
    "        for j in range(2,int(i/2)):\n",
    "            if(i%j==0):\n",
    "                flag=1\n",
    "                break\n",
    "        if(flag==0):\n",
    "            print(i, end=\" \")"
   ]
  },
  {
   "cell_type": "markdown",
   "metadata": {},
   "source": [
    "# Question 2\n",
    "\n",
    "Write code to identify indexes where a shift happens and fetch corresponding value from another array.\n",
    "\n",
    "array1= (0,0,0,1,1,1,1,1,2,2,2,2,3,3,3,2,2,2,3,3,3,3,3,1,1,1)\n",
    "\n",
    "array2= (a,b,c,d,e,f,g,h,i,j,k,l,m,n,o,p,q,r,s,t,u,v,w,x,y,z)\n",
    "\n",
    "The final output should be two arrays, one should contain elements fetched from array2 and the other should contain index numbers of the shifts.\n",
    "\n",
    "Final: ['d', 'i', 'm', 'p', 's', 'x'] \n",
    "\n",
    "Indexes: [3, 8, 12, 15, 18, 23]\n",
    "\n",
    "# Approach\n",
    "\n",
    "1. Iterate through the array sequentially and find whether the current numvber is same as the next number\n",
    "2. If the current number and next number is same then store the required index and values in the output array"
   ]
  },
  {
   "cell_type": "code",
   "execution_count": 2,
   "metadata": {},
   "outputs": [
    {
     "name": "stdout",
     "output_type": "stream",
     "text": [
      "['d', 'i', 'm', 'p', 's', 'x']\n",
      "[3, 8, 12, 15, 18, 23]\n"
     ]
    }
   ],
   "source": [
    "array1= [0,0,0,1,1,1,1,1,2,2,2,2,3,3,3,2,2,2,3,3,3,3,3,1,1,1]\n",
    "array2= [\"a\",\"b\",\"c\",\"d\",\"e\",\"f\",\"g\",\"h\",\"i\",\"j\",\"k\",\"l\",\"m\",\"n\",\"o\",\"p\",\"q\",\"r\",\"s\",\"t\",\"u\",\"v\",\"w\",\"x\",\"y\",\"z\"]\n",
    "Final=[]\n",
    "indexes=[]\n",
    "for i in range(0, len(array1)-1):\n",
    "    flag=0\n",
    "    if(array1[i]==array1[i+1]):\n",
    "        flag=0\n",
    "    else:\n",
    "        Final.append(array2[i+1])\n",
    "        indexes.append(i+1)\n",
    "\n",
    "print(Final)\n",
    "print(indexes)\n",
    "        \n",
    "        \n"
   ]
  },
  {
   "cell_type": "markdown",
   "metadata": {},
   "source": [
    "# Question 3\n",
    "\n",
    "Find n-point moving average of a given array. If n=3, then it should return the average of each index by computing the average of (3 preceding elements, element itself, 3 succeeding elements) and return the final array.\n",
    "\n",
    "Ex: \n",
    "\n",
    "Existing array: [2,4,6,8,12,14,3,55,66,77,32,56,19,18,23,26,28,31]\n",
    "\n",
    "Moving average (n): 3\n",
    "\n",
    "Output: \n",
    "\n",
    "[5, 6, 7, 7, 14, 23, 33, 37, 43, 44, 46, 41, 35, 28, 28, 24, 25, 27]\n",
    "\n",
    "\n",
    "# Approach\n",
    "1. Get the value of n from the user\n",
    "2. Create a right array which can store the number of elements and sum of elements in its right side (succeding elements)\n",
    "3. Create a left array which can store the number of elements and sum of elements in its left side (preceeding elements)\n",
    "4. Convert this structure into a dictionary where current element is the key with a value as an array which has 4 elements.\n",
    "   First element = sum of elements in right side\n",
    "   Second element = number of elements in right side\n",
    "   Third element = number of elements in left side\n",
    "   Fourth element = number of elements in left side\n",
    "   \n",
    "5. Compute the mean by dividing the total sum by total number of elements in the each key value pair in the dictonary.\n",
    "6. Store all the values in an array or list and output the same."
   ]
  },
  {
   "cell_type": "code",
   "execution_count": 3,
   "metadata": {},
   "outputs": [
    {
     "name": "stdout",
     "output_type": "stream",
     "text": [
      "Enter the value of n: 3\n",
      "[5, 6, 7, 7, 14, 23, 33, 37, 43, 44, 46, 41, 35, 28, 28, 24, 25, 27]\n"
     ]
    }
   ],
   "source": [
    "\n",
    "array= [2,4,6,8,12,14,3,55,66,77,32,56,19,18,23,26,28,31]\n",
    "center = int(input(\"Enter the value of n: \"))\n",
    "\n",
    "length=len(array)\n",
    "\n",
    "#print(\"rightarray\")\n",
    "rightarray=array\n",
    "for i in range(0,center):\n",
    "    rightarray.append(0)\n",
    "#print(rightarray)\n",
    "\n",
    "\n",
    "dictionary= dict()\n",
    "\n",
    "\n",
    "for i in range(0,len(rightarray)-center):\n",
    "    middlesum=rightarray[i]\n",
    "    #print(\"middlesum :\",middlesum)\n",
    "    rightsum=0\n",
    "    r=i+1\n",
    "    flag=0\n",
    "    count=0\n",
    "    while(1):\n",
    "        if(flag==center):\n",
    "            break\n",
    "        rightsum=rightsum+rightarray[r]\n",
    "        if(rightarray[r]!=0):\n",
    "                count=count+1\n",
    "        r=r+1\n",
    "        flag=flag+1\n",
    "       \n",
    "    #print(rightsum)\n",
    "    dictionary[middlesum]=[rightsum]\n",
    "    dictionary[middlesum].append(count)\n",
    "    \n",
    "\n",
    "for i in range(0,center):\n",
    "    rightarray.pop(len(rightarray)-1)\n",
    "\n",
    "#print(\"leftarray\")\n",
    "leftarray=[]\n",
    "for i in range(0,center):\n",
    "    leftarray.append(0)           \n",
    "leftarray.extend(rightarray)\n",
    "#print(leftarray)\n",
    "\n",
    "\n",
    "for i in range(0+center,len(array)+center):\n",
    "    middlesum=leftarray[i]\n",
    "    #print(\"middlesum :\",middlesum)\n",
    "    leftsum=0\n",
    "    r=i-1\n",
    "    count=0\n",
    "    flag=0\n",
    "    while(1):\n",
    "        if(flag==center):\n",
    "            break\n",
    "        if(leftarray[r]!=0):\n",
    "            count=count+1\n",
    "        leftsum=leftsum+leftarray[r]\n",
    "        r=r-1\n",
    "        flag=flag+1\n",
    "    #print(leftsum)\n",
    "    dictionary[middlesum].append(leftsum)\n",
    "    dictionary[middlesum].append(count)\n",
    "    \n",
    "     \n",
    "#print(dictionary)\n",
    "result=[]\n",
    "for key in dictionary:\n",
    "    #print(key)\n",
    "    temparray=dictionary[key]\n",
    "    #print(temparray)\n",
    "    numerator= float(key)+float(temparray[0])+float(temparray[2])\n",
    "    #print(numerator)\n",
    "    denominator=1+float(temparray[1])+float(temparray[3])\n",
    "    #print(denominator)\n",
    "    output=int(numerator/denominator)\n",
    "    #print(output)\n",
    "    result.append(output)\n",
    "    \n",
    "    \n",
    "    \n",
    "print(result)\n",
    "    \n"
   ]
  },
  {
   "cell_type": "markdown",
   "metadata": {},
   "source": [
    "# Question 4\n",
    "\n",
    "Find the max consecutive number in a given array.\n",
    "Ex:\n",
    "\n",
    "Array : [2,2,2,1,1,4,4,4,4,4,4,4,4,4,4,4,1,1,1,1,1,1,1,1,1,3,3,3]\n",
    "\n",
    "Count: 11 Value: 4\n",
    "\n",
    "# Approach\n",
    "1. Iterate through the array sequentially and find whether the current numvber is same as the next number\n",
    "2. Parallaely maintain a temporaray maxval variable and update its value for every sequence with same number which is greater than that of the previous sequence. \n",
    "3. Output the maxval and the array value present in the corresponding index"
   ]
  },
  {
   "cell_type": "code",
   "execution_count": 4,
   "metadata": {},
   "outputs": [
    {
     "name": "stdout",
     "output_type": "stream",
     "text": [
      "Count : 11\n",
      "Value : 4\n"
     ]
    }
   ],
   "source": [
    "array = [2,2,2,1,1,4,4,4,4,4,4,4,4,4,4,4,1,1,1,1,1,1,1,1,1,3,3,3]\n",
    "maxval = -9999\n",
    "flag=0\n",
    "for i in range(0, len(array)-1):\n",
    "    if(array[i]==array[i+1]):\n",
    "        flag=flag+1\n",
    "    else:\n",
    "        if(flag > maxval):\n",
    "            maxval =flag\n",
    "            value=array[i]\n",
    "            flag=0\n",
    "            \n",
    "print(\"Count :\",maxval)\n",
    "print(\"Value :\",value)        \n",
    "        "
   ]
  },
  {
   "cell_type": "code",
   "execution_count": null,
   "metadata": {},
   "outputs": [],
   "source": []
  }
 ],
 "metadata": {
  "kernelspec": {
   "display_name": "Python 3",
   "language": "python",
   "name": "python3"
  },
  "language_info": {
   "codemirror_mode": {
    "name": "ipython",
    "version": 3
   },
   "file_extension": ".py",
   "mimetype": "text/x-python",
   "name": "python",
   "nbconvert_exporter": "python",
   "pygments_lexer": "ipython3",
   "version": "3.7.4"
  }
 },
 "nbformat": 4,
 "nbformat_minor": 2
}
